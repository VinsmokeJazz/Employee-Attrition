{
 "cells": [
  {
   "cell_type": "code",
   "execution_count": 1,
   "metadata": {},
   "outputs": [],
   "source": [
    "import pandas as pd\n",
    "import numpy as np\n",
    "\n",
    "import matplotlib.pyplot as plt\n",
    "import seaborn as sb\n",
    "%matplotlib inline\n",
    "from pylab import rcParams"
   ]
  },
  {
   "cell_type": "markdown",
   "metadata": {},
   "source": [
    "<br>\n",
    "\n",
    "## Operation on Training data "
   ]
  },
  {
   "cell_type": "markdown",
   "metadata": {},
   "source": [
    "### Train Work data"
   ]
  },
  {
   "cell_type": "code",
   "execution_count": 29,
   "metadata": {},
   "outputs": [
    {
     "data": {
      "text/html": [
       "<div>\n",
       "<style scoped>\n",
       "    .dataframe tbody tr th:only-of-type {\n",
       "        vertical-align: middle;\n",
       "    }\n",
       "\n",
       "    .dataframe tbody tr th {\n",
       "        vertical-align: top;\n",
       "    }\n",
       "\n",
       "    .dataframe thead th {\n",
       "        text-align: right;\n",
       "    }\n",
       "</style>\n",
       "<table border=\"1\" class=\"dataframe\">\n",
       "  <thead>\n",
       "    <tr style=\"text-align: right;\">\n",
       "      <th></th>\n",
       "      <th>EmployeeID</th>\n",
       "      <th>TotalWorkingHours</th>\n",
       "      <th>Billable_Hours</th>\n",
       "      <th>Hours_off_Duty</th>\n",
       "      <th>Touring_Hours</th>\n",
       "      <th>NoOfProjects</th>\n",
       "      <th>ActualTimeSpent</th>\n",
       "    </tr>\n",
       "  </thead>\n",
       "  <tbody>\n",
       "    <tr>\n",
       "      <th>0</th>\n",
       "      <td>emp-1</td>\n",
       "      <td>184.0</td>\n",
       "      <td>144.0</td>\n",
       "      <td>40.0</td>\n",
       "      <td>144.0</td>\n",
       "      <td>3</td>\n",
       "      <td>77</td>\n",
       "    </tr>\n",
       "    <tr>\n",
       "      <th>1</th>\n",
       "      <td>emp-1</td>\n",
       "      <td>176.0</td>\n",
       "      <td>136.0</td>\n",
       "      <td>40.0</td>\n",
       "      <td>136.0</td>\n",
       "      <td>2</td>\n",
       "      <td>98</td>\n",
       "    </tr>\n",
       "    <tr>\n",
       "      <th>2</th>\n",
       "      <td>emp-1</td>\n",
       "      <td>200.0</td>\n",
       "      <td>120.0</td>\n",
       "      <td>72.0</td>\n",
       "      <td>120.0</td>\n",
       "      <td>1</td>\n",
       "      <td>14</td>\n",
       "    </tr>\n",
       "    <tr>\n",
       "      <th>3</th>\n",
       "      <td>emp-1</td>\n",
       "      <td>160.0</td>\n",
       "      <td>144.0</td>\n",
       "      <td>8.0</td>\n",
       "      <td>144.0</td>\n",
       "      <td>3</td>\n",
       "      <td>147</td>\n",
       "    </tr>\n",
       "    <tr>\n",
       "      <th>4</th>\n",
       "      <td>emp-1</td>\n",
       "      <td>171.0</td>\n",
       "      <td>135.0</td>\n",
       "      <td>0.0</td>\n",
       "      <td>135.0</td>\n",
       "      <td>1</td>\n",
       "      <td>42</td>\n",
       "    </tr>\n",
       "  </tbody>\n",
       "</table>\n",
       "</div>"
      ],
      "text/plain": [
       "  EmployeeID  TotalWorkingHours  Billable_Hours  Hours_off_Duty  \\\n",
       "0      emp-1              184.0           144.0            40.0   \n",
       "1      emp-1              176.0           136.0            40.0   \n",
       "2      emp-1              200.0           120.0            72.0   \n",
       "3      emp-1              160.0           144.0             8.0   \n",
       "4      emp-1              171.0           135.0             0.0   \n",
       "\n",
       "   Touring_Hours  NoOfProjects  ActualTimeSpent  \n",
       "0          144.0             3               77  \n",
       "1          136.0             2               98  \n",
       "2          120.0             1               14  \n",
       "3          144.0             3              147  \n",
       "4          135.0             1               42  "
      ]
     },
     "execution_count": 29,
     "metadata": {},
     "output_type": "execute_result"
    }
   ],
   "source": [
    "# Show First 5 records\n",
    "train_work_data = pd.read_csv('Train Data/train_work.csv')\n",
    "train_work_data.head(5)"
   ]
  },
  {
   "cell_type": "code",
   "execution_count": 41,
   "metadata": {},
   "outputs": [
    {
     "data": {
      "text/html": [
       "<div>\n",
       "<style scoped>\n",
       "    .dataframe tbody tr th:only-of-type {\n",
       "        vertical-align: middle;\n",
       "    }\n",
       "\n",
       "    .dataframe tbody tr th {\n",
       "        vertical-align: top;\n",
       "    }\n",
       "\n",
       "    .dataframe thead th {\n",
       "        text-align: right;\n",
       "    }\n",
       "</style>\n",
       "<table border=\"1\" class=\"dataframe\">\n",
       "  <thead>\n",
       "    <tr style=\"text-align: right;\">\n",
       "      <th></th>\n",
       "      <th>EmployeeID</th>\n",
       "      <th>TotalWorkingHours</th>\n",
       "      <th>Billable_Hours</th>\n",
       "      <th>Hours_off_Duty</th>\n",
       "      <th>Touring_Hours</th>\n",
       "      <th>NoOfProjects</th>\n",
       "      <th>ActualTimeSpent</th>\n",
       "    </tr>\n",
       "  </thead>\n",
       "  <tbody>\n",
       "    <tr>\n",
       "      <th>0</th>\n",
       "      <td>emp-1</td>\n",
       "      <td>3424.0</td>\n",
       "      <td>2462.0</td>\n",
       "      <td>408.0</td>\n",
       "      <td>2462.0</td>\n",
       "      <td>42</td>\n",
       "      <td>2849</td>\n",
       "    </tr>\n",
       "    <tr>\n",
       "      <th>1</th>\n",
       "      <td>emp-10</td>\n",
       "      <td>2006.0</td>\n",
       "      <td>1274.0</td>\n",
       "      <td>328.0</td>\n",
       "      <td>691.0</td>\n",
       "      <td>13</td>\n",
       "      <td>616</td>\n",
       "    </tr>\n",
       "    <tr>\n",
       "      <th>2</th>\n",
       "      <td>emp-100</td>\n",
       "      <td>3607.0</td>\n",
       "      <td>3275.0</td>\n",
       "      <td>224.0</td>\n",
       "      <td>3235.0</td>\n",
       "      <td>23</td>\n",
       "      <td>3388</td>\n",
       "    </tr>\n",
       "    <tr>\n",
       "      <th>3</th>\n",
       "      <td>emp-101</td>\n",
       "      <td>4109.5</td>\n",
       "      <td>2759.5</td>\n",
       "      <td>192.0</td>\n",
       "      <td>0.0</td>\n",
       "      <td>18</td>\n",
       "      <td>1953</td>\n",
       "    </tr>\n",
       "    <tr>\n",
       "      <th>4</th>\n",
       "      <td>emp-102</td>\n",
       "      <td>3790.0</td>\n",
       "      <td>2720.5</td>\n",
       "      <td>344.0</td>\n",
       "      <td>1861.0</td>\n",
       "      <td>20</td>\n",
       "      <td>2254</td>\n",
       "    </tr>\n",
       "  </tbody>\n",
       "</table>\n",
       "</div>"
      ],
      "text/plain": [
       "  EmployeeID  TotalWorkingHours  Billable_Hours  Hours_off_Duty  \\\n",
       "0      emp-1             3424.0          2462.0           408.0   \n",
       "1     emp-10             2006.0          1274.0           328.0   \n",
       "2    emp-100             3607.0          3275.0           224.0   \n",
       "3    emp-101             4109.5          2759.5           192.0   \n",
       "4    emp-102             3790.0          2720.5           344.0   \n",
       "\n",
       "   Touring_Hours  NoOfProjects  ActualTimeSpent  \n",
       "0         2462.0            42             2849  \n",
       "1          691.0            13              616  \n",
       "2         3235.0            23             3388  \n",
       "3            0.0            18             1953  \n",
       "4         1861.0            20             2254  "
      ]
     },
     "execution_count": 41,
     "metadata": {},
     "output_type": "execute_result"
    }
   ],
   "source": [
    "# Finding the sum of each features for respective Employee ids  \n",
    "train_work_data = train_work_data.groupby('EmployeeID', as_index=False).agg({\n",
    "    \"TotalWorkingHours\": \"sum\",\n",
    "    \"Billable_Hours\": \"sum\",\n",
    "    \"Hours_off_Duty\": \"sum\",\n",
    "    \"Touring_Hours\": \"sum\",\n",
    "    \"NoOfProjects\": \"sum\",\n",
    "    \"ActualTimeSpent\": \"sum\",\n",
    "})\n",
    "train_work_data.head()"
   ]
  },
  {
   "cell_type": "code",
   "execution_count": 33,
   "metadata": {},
   "outputs": [
    {
     "data": {
      "text/plain": [
       "(245, 7)"
      ]
     },
     "execution_count": 33,
     "metadata": {},
     "output_type": "execute_result"
    }
   ],
   "source": [
    "train_work_data.shape"
   ]
  },
  {
   "cell_type": "markdown",
   "metadata": {},
   "source": [
    "### Train Attrition data"
   ]
  },
  {
   "cell_type": "code",
   "execution_count": 42,
   "metadata": {},
   "outputs": [
    {
     "data": {
      "text/html": [
       "<div>\n",
       "<style scoped>\n",
       "    .dataframe tbody tr th:only-of-type {\n",
       "        vertical-align: middle;\n",
       "    }\n",
       "\n",
       "    .dataframe tbody tr th {\n",
       "        vertical-align: top;\n",
       "    }\n",
       "\n",
       "    .dataframe thead th {\n",
       "        text-align: right;\n",
       "    }\n",
       "</style>\n",
       "<table border=\"1\" class=\"dataframe\">\n",
       "  <thead>\n",
       "    <tr style=\"text-align: right;\">\n",
       "      <th></th>\n",
       "      <th>EmployeeID</th>\n",
       "      <th>Left_Company</th>\n",
       "    </tr>\n",
       "  </thead>\n",
       "  <tbody>\n",
       "    <tr>\n",
       "      <th>0</th>\n",
       "      <td>emp-1</td>\n",
       "      <td>0.0</td>\n",
       "    </tr>\n",
       "    <tr>\n",
       "      <th>1</th>\n",
       "      <td>emp-10</td>\n",
       "      <td>1.0</td>\n",
       "    </tr>\n",
       "    <tr>\n",
       "      <th>2</th>\n",
       "      <td>emp-100</td>\n",
       "      <td>0.0</td>\n",
       "    </tr>\n",
       "    <tr>\n",
       "      <th>3</th>\n",
       "      <td>emp-101</td>\n",
       "      <td>0.0</td>\n",
       "    </tr>\n",
       "    <tr>\n",
       "      <th>4</th>\n",
       "      <td>emp-102</td>\n",
       "      <td>0.0</td>\n",
       "    </tr>\n",
       "  </tbody>\n",
       "</table>\n",
       "</div>"
      ],
      "text/plain": [
       "  EmployeeID  Left_Company\n",
       "0      emp-1           0.0\n",
       "1     emp-10           1.0\n",
       "2    emp-100           0.0\n",
       "3    emp-101           0.0\n",
       "4    emp-102           0.0"
      ]
     },
     "execution_count": 42,
     "metadata": {},
     "output_type": "execute_result"
    }
   ],
   "source": [
    "# Show First 5 records\n",
    "train_attrition_data = pd.read_csv('Train Data/train_attrition.csv')\n",
    "train_attrition_data.head()"
   ]
  },
  {
   "cell_type": "code",
   "execution_count": 58,
   "metadata": {},
   "outputs": [],
   "source": [
    "# Dropping EmployeeID\n",
    "train_attrition_data.drop('EmployeeID',axis=1,inplace=True)"
   ]
  },
  {
   "cell_type": "markdown",
   "metadata": {},
   "source": [
    "### Combining Train work and Train attrition data "
   ]
  },
  {
   "cell_type": "code",
   "execution_count": 59,
   "metadata": {},
   "outputs": [],
   "source": [
    "train_data = pd.concat([train_work_data,train_attrition_data],axis=1)"
   ]
  },
  {
   "cell_type": "code",
   "execution_count": 61,
   "metadata": {},
   "outputs": [
    {
     "data": {
      "text/html": [
       "<div>\n",
       "<style scoped>\n",
       "    .dataframe tbody tr th:only-of-type {\n",
       "        vertical-align: middle;\n",
       "    }\n",
       "\n",
       "    .dataframe tbody tr th {\n",
       "        vertical-align: top;\n",
       "    }\n",
       "\n",
       "    .dataframe thead th {\n",
       "        text-align: right;\n",
       "    }\n",
       "</style>\n",
       "<table border=\"1\" class=\"dataframe\">\n",
       "  <thead>\n",
       "    <tr style=\"text-align: right;\">\n",
       "      <th></th>\n",
       "      <th>EmployeeID</th>\n",
       "      <th>TotalWorkingHours</th>\n",
       "      <th>Billable_Hours</th>\n",
       "      <th>Hours_off_Duty</th>\n",
       "      <th>Touring_Hours</th>\n",
       "      <th>NoOfProjects</th>\n",
       "      <th>ActualTimeSpent</th>\n",
       "      <th>Left_Company</th>\n",
       "    </tr>\n",
       "  </thead>\n",
       "  <tbody>\n",
       "    <tr>\n",
       "      <th>0</th>\n",
       "      <td>emp-1</td>\n",
       "      <td>3424.0</td>\n",
       "      <td>2462.0</td>\n",
       "      <td>408.0</td>\n",
       "      <td>2462.0</td>\n",
       "      <td>42</td>\n",
       "      <td>2849</td>\n",
       "      <td>0.0</td>\n",
       "    </tr>\n",
       "    <tr>\n",
       "      <th>1</th>\n",
       "      <td>emp-10</td>\n",
       "      <td>2006.0</td>\n",
       "      <td>1274.0</td>\n",
       "      <td>328.0</td>\n",
       "      <td>691.0</td>\n",
       "      <td>13</td>\n",
       "      <td>616</td>\n",
       "      <td>1.0</td>\n",
       "    </tr>\n",
       "    <tr>\n",
       "      <th>2</th>\n",
       "      <td>emp-100</td>\n",
       "      <td>3607.0</td>\n",
       "      <td>3275.0</td>\n",
       "      <td>224.0</td>\n",
       "      <td>3235.0</td>\n",
       "      <td>23</td>\n",
       "      <td>3388</td>\n",
       "      <td>0.0</td>\n",
       "    </tr>\n",
       "    <tr>\n",
       "      <th>3</th>\n",
       "      <td>emp-101</td>\n",
       "      <td>4109.5</td>\n",
       "      <td>2759.5</td>\n",
       "      <td>192.0</td>\n",
       "      <td>0.0</td>\n",
       "      <td>18</td>\n",
       "      <td>1953</td>\n",
       "      <td>0.0</td>\n",
       "    </tr>\n",
       "    <tr>\n",
       "      <th>4</th>\n",
       "      <td>emp-102</td>\n",
       "      <td>3790.0</td>\n",
       "      <td>2720.5</td>\n",
       "      <td>344.0</td>\n",
       "      <td>1861.0</td>\n",
       "      <td>20</td>\n",
       "      <td>2254</td>\n",
       "      <td>0.0</td>\n",
       "    </tr>\n",
       "  </tbody>\n",
       "</table>\n",
       "</div>"
      ],
      "text/plain": [
       "  EmployeeID  TotalWorkingHours  Billable_Hours  Hours_off_Duty  \\\n",
       "0      emp-1             3424.0          2462.0           408.0   \n",
       "1     emp-10             2006.0          1274.0           328.0   \n",
       "2    emp-100             3607.0          3275.0           224.0   \n",
       "3    emp-101             4109.5          2759.5           192.0   \n",
       "4    emp-102             3790.0          2720.5           344.0   \n",
       "\n",
       "   Touring_Hours  NoOfProjects  ActualTimeSpent  Left_Company  \n",
       "0         2462.0            42             2849           0.0  \n",
       "1          691.0            13              616           1.0  \n",
       "2         3235.0            23             3388           0.0  \n",
       "3            0.0            18             1953           0.0  \n",
       "4         1861.0            20             2254           0.0  "
      ]
     },
     "execution_count": 61,
     "metadata": {},
     "output_type": "execute_result"
    }
   ],
   "source": [
    "train_data.head()"
   ]
  },
  {
   "cell_type": "code",
   "execution_count": 62,
   "metadata": {},
   "outputs": [
    {
     "data": {
      "text/plain": [
       "(245, 8)"
      ]
     },
     "execution_count": 62,
     "metadata": {},
     "output_type": "execute_result"
    }
   ],
   "source": [
    "train_data.shape"
   ]
  },
  {
   "cell_type": "markdown",
   "metadata": {},
   "source": [
    "<br>\n",
    "\n",
    "## Operation on Test data "
   ]
  },
  {
   "cell_type": "markdown",
   "metadata": {},
   "source": [
    "### Test work data "
   ]
  },
  {
   "cell_type": "code",
   "execution_count": 34,
   "metadata": {},
   "outputs": [
    {
     "data": {
      "text/html": [
       "<div>\n",
       "<style scoped>\n",
       "    .dataframe tbody tr th:only-of-type {\n",
       "        vertical-align: middle;\n",
       "    }\n",
       "\n",
       "    .dataframe tbody tr th {\n",
       "        vertical-align: top;\n",
       "    }\n",
       "\n",
       "    .dataframe thead th {\n",
       "        text-align: right;\n",
       "    }\n",
       "</style>\n",
       "<table border=\"1\" class=\"dataframe\">\n",
       "  <thead>\n",
       "    <tr style=\"text-align: right;\">\n",
       "      <th></th>\n",
       "      <th>EmployeeID</th>\n",
       "      <th>TotalWorkingHours</th>\n",
       "      <th>Billable_Hours</th>\n",
       "      <th>Hours_off_Duty</th>\n",
       "      <th>Touring_Hours</th>\n",
       "      <th>NoOfProjects</th>\n",
       "      <th>ActualTimeSpent</th>\n",
       "    </tr>\n",
       "  </thead>\n",
       "  <tbody>\n",
       "    <tr>\n",
       "      <th>0</th>\n",
       "      <td>emp-2</td>\n",
       "      <td>170.0</td>\n",
       "      <td>124.0</td>\n",
       "      <td>8.0</td>\n",
       "      <td>0.0</td>\n",
       "      <td>4</td>\n",
       "      <td>77</td>\n",
       "    </tr>\n",
       "    <tr>\n",
       "      <th>1</th>\n",
       "      <td>emp-2</td>\n",
       "      <td>164.0</td>\n",
       "      <td>114.0</td>\n",
       "      <td>24.0</td>\n",
       "      <td>0.0</td>\n",
       "      <td>4</td>\n",
       "      <td>105</td>\n",
       "    </tr>\n",
       "    <tr>\n",
       "      <th>2</th>\n",
       "      <td>emp-2</td>\n",
       "      <td>201.0</td>\n",
       "      <td>139.0</td>\n",
       "      <td>48.0</td>\n",
       "      <td>0.0</td>\n",
       "      <td>4</td>\n",
       "      <td>112</td>\n",
       "    </tr>\n",
       "    <tr>\n",
       "      <th>3</th>\n",
       "      <td>emp-2</td>\n",
       "      <td>153.0</td>\n",
       "      <td>114.0</td>\n",
       "      <td>24.0</td>\n",
       "      <td>0.0</td>\n",
       "      <td>2</td>\n",
       "      <td>91</td>\n",
       "    </tr>\n",
       "    <tr>\n",
       "      <th>4</th>\n",
       "      <td>emp-2</td>\n",
       "      <td>122.0</td>\n",
       "      <td>106.0</td>\n",
       "      <td>0.0</td>\n",
       "      <td>0.0</td>\n",
       "      <td>2</td>\n",
       "      <td>98</td>\n",
       "    </tr>\n",
       "  </tbody>\n",
       "</table>\n",
       "</div>"
      ],
      "text/plain": [
       "  EmployeeID  TotalWorkingHours  Billable_Hours  Hours_off_Duty  \\\n",
       "0      emp-2              170.0           124.0             8.0   \n",
       "1      emp-2              164.0           114.0            24.0   \n",
       "2      emp-2              201.0           139.0            48.0   \n",
       "3      emp-2              153.0           114.0            24.0   \n",
       "4      emp-2              122.0           106.0             0.0   \n",
       "\n",
       "   Touring_Hours  NoOfProjects  ActualTimeSpent  \n",
       "0            0.0             4               77  \n",
       "1            0.0             4              105  \n",
       "2            0.0             4              112  \n",
       "3            0.0             2               91  \n",
       "4            0.0             2               98  "
      ]
     },
     "execution_count": 34,
     "metadata": {},
     "output_type": "execute_result"
    }
   ],
   "source": [
    "# Show First 5 records\n",
    "test_work_data = pd.read_csv('Test Data/test_work.csv')\n",
    "test_work_data.head(5)"
   ]
  },
  {
   "cell_type": "code",
   "execution_count": 35,
   "metadata": {},
   "outputs": [
    {
     "data": {
      "text/html": [
       "<div>\n",
       "<style scoped>\n",
       "    .dataframe tbody tr th:only-of-type {\n",
       "        vertical-align: middle;\n",
       "    }\n",
       "\n",
       "    .dataframe tbody tr th {\n",
       "        vertical-align: top;\n",
       "    }\n",
       "\n",
       "    .dataframe thead th {\n",
       "        text-align: right;\n",
       "    }\n",
       "</style>\n",
       "<table border=\"1\" class=\"dataframe\">\n",
       "  <thead>\n",
       "    <tr style=\"text-align: right;\">\n",
       "      <th></th>\n",
       "      <th>EmployeeID</th>\n",
       "      <th>TotalWorkingHours</th>\n",
       "      <th>Billable_Hours</th>\n",
       "      <th>Hours_off_Duty</th>\n",
       "      <th>Touring_Hours</th>\n",
       "      <th>NoOfProjects</th>\n",
       "      <th>ActualTimeSpent</th>\n",
       "    </tr>\n",
       "  </thead>\n",
       "  <tbody>\n",
       "    <tr>\n",
       "      <th>0</th>\n",
       "      <td>emp-106</td>\n",
       "      <td>3309.5</td>\n",
       "      <td>2352.0</td>\n",
       "      <td>298.0</td>\n",
       "      <td>2.0</td>\n",
       "      <td>18</td>\n",
       "      <td>1736</td>\n",
       "    </tr>\n",
       "    <tr>\n",
       "      <th>1</th>\n",
       "      <td>emp-112</td>\n",
       "      <td>3178.5</td>\n",
       "      <td>2610.0</td>\n",
       "      <td>292.0</td>\n",
       "      <td>325.0</td>\n",
       "      <td>21</td>\n",
       "      <td>1708</td>\n",
       "    </tr>\n",
       "    <tr>\n",
       "      <th>2</th>\n",
       "      <td>emp-114</td>\n",
       "      <td>3072.5</td>\n",
       "      <td>1618.7</td>\n",
       "      <td>264.0</td>\n",
       "      <td>1104.0</td>\n",
       "      <td>25</td>\n",
       "      <td>882</td>\n",
       "    </tr>\n",
       "    <tr>\n",
       "      <th>3</th>\n",
       "      <td>emp-118</td>\n",
       "      <td>2400.0</td>\n",
       "      <td>2008.0</td>\n",
       "      <td>146.0</td>\n",
       "      <td>728.0</td>\n",
       "      <td>18</td>\n",
       "      <td>1526</td>\n",
       "    </tr>\n",
       "    <tr>\n",
       "      <th>4</th>\n",
       "      <td>emp-12</td>\n",
       "      <td>4491.0</td>\n",
       "      <td>2653.0</td>\n",
       "      <td>601.0</td>\n",
       "      <td>799.0</td>\n",
       "      <td>31</td>\n",
       "      <td>1883</td>\n",
       "    </tr>\n",
       "  </tbody>\n",
       "</table>\n",
       "</div>"
      ],
      "text/plain": [
       "  EmployeeID  TotalWorkingHours  Billable_Hours  Hours_off_Duty  \\\n",
       "0    emp-106             3309.5          2352.0           298.0   \n",
       "1    emp-112             3178.5          2610.0           292.0   \n",
       "2    emp-114             3072.5          1618.7           264.0   \n",
       "3    emp-118             2400.0          2008.0           146.0   \n",
       "4     emp-12             4491.0          2653.0           601.0   \n",
       "\n",
       "   Touring_Hours  NoOfProjects  ActualTimeSpent  \n",
       "0            2.0            18             1736  \n",
       "1          325.0            21             1708  \n",
       "2         1104.0            25              882  \n",
       "3          728.0            18             1526  \n",
       "4          799.0            31             1883  "
      ]
     },
     "execution_count": 35,
     "metadata": {},
     "output_type": "execute_result"
    }
   ],
   "source": [
    "# Finding the sum of each features for respective Employee ids  \n",
    "test_work_data = test_work_data.groupby('EmployeeID', as_index=False).agg({\n",
    "    \"TotalWorkingHours\": \"sum\",\n",
    "    \"Billable_Hours\": \"sum\",\n",
    "    \"Hours_off_Duty\": \"sum\",\n",
    "    \"Touring_Hours\": \"sum\",\n",
    "    \"NoOfProjects\": \"sum\",\n",
    "    \"ActualTimeSpent\": \"sum\",\n",
    "})\n",
    "test_work_data.head()"
   ]
  },
  {
   "cell_type": "code",
   "execution_count": 36,
   "metadata": {},
   "outputs": [
    {
     "data": {
      "text/plain": [
       "(51, 7)"
      ]
     },
     "execution_count": 36,
     "metadata": {},
     "output_type": "execute_result"
    }
   ],
   "source": [
    "test_work_data.shape"
   ]
  },
  {
   "cell_type": "markdown",
   "metadata": {},
   "source": [
    "### Test Attrition data"
   ]
  },
  {
   "cell_type": "code",
   "execution_count": 63,
   "metadata": {},
   "outputs": [
    {
     "data": {
      "text/html": [
       "<div>\n",
       "<style scoped>\n",
       "    .dataframe tbody tr th:only-of-type {\n",
       "        vertical-align: middle;\n",
       "    }\n",
       "\n",
       "    .dataframe tbody tr th {\n",
       "        vertical-align: top;\n",
       "    }\n",
       "\n",
       "    .dataframe thead th {\n",
       "        text-align: right;\n",
       "    }\n",
       "</style>\n",
       "<table border=\"1\" class=\"dataframe\">\n",
       "  <thead>\n",
       "    <tr style=\"text-align: right;\">\n",
       "      <th></th>\n",
       "      <th>EmployeeID</th>\n",
       "      <th>Left_Company</th>\n",
       "    </tr>\n",
       "  </thead>\n",
       "  <tbody>\n",
       "    <tr>\n",
       "      <th>0</th>\n",
       "      <td>emp-106</td>\n",
       "      <td>NaN</td>\n",
       "    </tr>\n",
       "    <tr>\n",
       "      <th>1</th>\n",
       "      <td>emp-112</td>\n",
       "      <td>NaN</td>\n",
       "    </tr>\n",
       "    <tr>\n",
       "      <th>2</th>\n",
       "      <td>emp-114</td>\n",
       "      <td>NaN</td>\n",
       "    </tr>\n",
       "    <tr>\n",
       "      <th>3</th>\n",
       "      <td>emp-118</td>\n",
       "      <td>NaN</td>\n",
       "    </tr>\n",
       "    <tr>\n",
       "      <th>4</th>\n",
       "      <td>emp-12</td>\n",
       "      <td>NaN</td>\n",
       "    </tr>\n",
       "  </tbody>\n",
       "</table>\n",
       "</div>"
      ],
      "text/plain": [
       "  EmployeeID  Left_Company\n",
       "0    emp-106           NaN\n",
       "1    emp-112           NaN\n",
       "2    emp-114           NaN\n",
       "3    emp-118           NaN\n",
       "4     emp-12           NaN"
      ]
     },
     "execution_count": 63,
     "metadata": {},
     "output_type": "execute_result"
    }
   ],
   "source": [
    "# Show First 5 records\n",
    "test_attrition_data = pd.read_csv('Test Data/test_attrition.csv')\n",
    "test_attrition_data.head()"
   ]
  },
  {
   "cell_type": "code",
   "execution_count": 64,
   "metadata": {},
   "outputs": [],
   "source": [
    "# Dropping EmployeeID\n",
    "test_attrition_data.drop('EmployeeID',axis=1,inplace=True)"
   ]
  },
  {
   "cell_type": "markdown",
   "metadata": {},
   "source": [
    "### Combining Test work and Test attrition data "
   ]
  },
  {
   "cell_type": "code",
   "execution_count": 65,
   "metadata": {},
   "outputs": [],
   "source": [
    "test_data = pd.concat([test_work_data,test_attrition_data],axis=1)"
   ]
  },
  {
   "cell_type": "code",
   "execution_count": 66,
   "metadata": {},
   "outputs": [
    {
     "data": {
      "text/html": [
       "<div>\n",
       "<style scoped>\n",
       "    .dataframe tbody tr th:only-of-type {\n",
       "        vertical-align: middle;\n",
       "    }\n",
       "\n",
       "    .dataframe tbody tr th {\n",
       "        vertical-align: top;\n",
       "    }\n",
       "\n",
       "    .dataframe thead th {\n",
       "        text-align: right;\n",
       "    }\n",
       "</style>\n",
       "<table border=\"1\" class=\"dataframe\">\n",
       "  <thead>\n",
       "    <tr style=\"text-align: right;\">\n",
       "      <th></th>\n",
       "      <th>EmployeeID</th>\n",
       "      <th>TotalWorkingHours</th>\n",
       "      <th>Billable_Hours</th>\n",
       "      <th>Hours_off_Duty</th>\n",
       "      <th>Touring_Hours</th>\n",
       "      <th>NoOfProjects</th>\n",
       "      <th>ActualTimeSpent</th>\n",
       "      <th>Left_Company</th>\n",
       "    </tr>\n",
       "  </thead>\n",
       "  <tbody>\n",
       "    <tr>\n",
       "      <th>0</th>\n",
       "      <td>emp-106</td>\n",
       "      <td>3309.5</td>\n",
       "      <td>2352.0</td>\n",
       "      <td>298.0</td>\n",
       "      <td>2.0</td>\n",
       "      <td>18</td>\n",
       "      <td>1736</td>\n",
       "      <td>NaN</td>\n",
       "    </tr>\n",
       "    <tr>\n",
       "      <th>1</th>\n",
       "      <td>emp-112</td>\n",
       "      <td>3178.5</td>\n",
       "      <td>2610.0</td>\n",
       "      <td>292.0</td>\n",
       "      <td>325.0</td>\n",
       "      <td>21</td>\n",
       "      <td>1708</td>\n",
       "      <td>NaN</td>\n",
       "    </tr>\n",
       "    <tr>\n",
       "      <th>2</th>\n",
       "      <td>emp-114</td>\n",
       "      <td>3072.5</td>\n",
       "      <td>1618.7</td>\n",
       "      <td>264.0</td>\n",
       "      <td>1104.0</td>\n",
       "      <td>25</td>\n",
       "      <td>882</td>\n",
       "      <td>NaN</td>\n",
       "    </tr>\n",
       "    <tr>\n",
       "      <th>3</th>\n",
       "      <td>emp-118</td>\n",
       "      <td>2400.0</td>\n",
       "      <td>2008.0</td>\n",
       "      <td>146.0</td>\n",
       "      <td>728.0</td>\n",
       "      <td>18</td>\n",
       "      <td>1526</td>\n",
       "      <td>NaN</td>\n",
       "    </tr>\n",
       "    <tr>\n",
       "      <th>4</th>\n",
       "      <td>emp-12</td>\n",
       "      <td>4491.0</td>\n",
       "      <td>2653.0</td>\n",
       "      <td>601.0</td>\n",
       "      <td>799.0</td>\n",
       "      <td>31</td>\n",
       "      <td>1883</td>\n",
       "      <td>NaN</td>\n",
       "    </tr>\n",
       "  </tbody>\n",
       "</table>\n",
       "</div>"
      ],
      "text/plain": [
       "  EmployeeID  TotalWorkingHours  Billable_Hours  Hours_off_Duty  \\\n",
       "0    emp-106             3309.5          2352.0           298.0   \n",
       "1    emp-112             3178.5          2610.0           292.0   \n",
       "2    emp-114             3072.5          1618.7           264.0   \n",
       "3    emp-118             2400.0          2008.0           146.0   \n",
       "4     emp-12             4491.0          2653.0           601.0   \n",
       "\n",
       "   Touring_Hours  NoOfProjects  ActualTimeSpent  Left_Company  \n",
       "0            2.0            18             1736           NaN  \n",
       "1          325.0            21             1708           NaN  \n",
       "2         1104.0            25              882           NaN  \n",
       "3          728.0            18             1526           NaN  \n",
       "4          799.0            31             1883           NaN  "
      ]
     },
     "execution_count": 66,
     "metadata": {},
     "output_type": "execute_result"
    }
   ],
   "source": [
    "test_data.head()"
   ]
  },
  {
   "cell_type": "code",
   "execution_count": 74,
   "metadata": {},
   "outputs": [
    {
     "data": {
      "text/plain": [
       "(51, 8)"
      ]
     },
     "execution_count": 74,
     "metadata": {},
     "output_type": "execute_result"
    }
   ],
   "source": [
    "test_data.shape"
   ]
  },
  {
   "cell_type": "markdown",
   "metadata": {},
   "source": [
    "### Create source column for both datasets to identify and seperate train and test data"
   ]
  },
  {
   "cell_type": "code",
   "execution_count": 106,
   "metadata": {},
   "outputs": [
    {
     "name": "stdout",
     "output_type": "stream",
     "text": [
      "Train  : (245, 9)\n",
      "Test : (51, 9)\n"
     ]
    }
   ],
   "source": [
    "train_data['source'] = 'train'\n",
    "test_data['source'] = 'test'\n",
    "print(\"Train  :\",train_data.shape)\n",
    "print(\"Test :\",test_data.shape)"
   ]
  },
  {
   "cell_type": "markdown",
   "metadata": {},
   "source": [
    "<br>\n",
    "\n",
    "## Train and Test dataset"
   ]
  },
  {
   "cell_type": "code",
   "execution_count": 107,
   "metadata": {},
   "outputs": [
    {
     "data": {
      "text/html": [
       "<div>\n",
       "<style scoped>\n",
       "    .dataframe tbody tr th:only-of-type {\n",
       "        vertical-align: middle;\n",
       "    }\n",
       "\n",
       "    .dataframe tbody tr th {\n",
       "        vertical-align: top;\n",
       "    }\n",
       "\n",
       "    .dataframe thead th {\n",
       "        text-align: right;\n",
       "    }\n",
       "</style>\n",
       "<table border=\"1\" class=\"dataframe\">\n",
       "  <thead>\n",
       "    <tr style=\"text-align: right;\">\n",
       "      <th></th>\n",
       "      <th>EmployeeID</th>\n",
       "      <th>TotalWorkingHours</th>\n",
       "      <th>Billable_Hours</th>\n",
       "      <th>Hours_off_Duty</th>\n",
       "      <th>Touring_Hours</th>\n",
       "      <th>NoOfProjects</th>\n",
       "      <th>ActualTimeSpent</th>\n",
       "      <th>Left_Company</th>\n",
       "      <th>source</th>\n",
       "    </tr>\n",
       "  </thead>\n",
       "  <tbody>\n",
       "    <tr>\n",
       "      <th>0</th>\n",
       "      <td>emp-1</td>\n",
       "      <td>3424.0</td>\n",
       "      <td>2462.0</td>\n",
       "      <td>408.0</td>\n",
       "      <td>2462.0</td>\n",
       "      <td>42</td>\n",
       "      <td>2849</td>\n",
       "      <td>0.0</td>\n",
       "      <td>train</td>\n",
       "    </tr>\n",
       "    <tr>\n",
       "      <th>1</th>\n",
       "      <td>emp-10</td>\n",
       "      <td>2006.0</td>\n",
       "      <td>1274.0</td>\n",
       "      <td>328.0</td>\n",
       "      <td>691.0</td>\n",
       "      <td>13</td>\n",
       "      <td>616</td>\n",
       "      <td>1.0</td>\n",
       "      <td>train</td>\n",
       "    </tr>\n",
       "    <tr>\n",
       "      <th>2</th>\n",
       "      <td>emp-100</td>\n",
       "      <td>3607.0</td>\n",
       "      <td>3275.0</td>\n",
       "      <td>224.0</td>\n",
       "      <td>3235.0</td>\n",
       "      <td>23</td>\n",
       "      <td>3388</td>\n",
       "      <td>0.0</td>\n",
       "      <td>train</td>\n",
       "    </tr>\n",
       "    <tr>\n",
       "      <th>3</th>\n",
       "      <td>emp-101</td>\n",
       "      <td>4109.5</td>\n",
       "      <td>2759.5</td>\n",
       "      <td>192.0</td>\n",
       "      <td>0.0</td>\n",
       "      <td>18</td>\n",
       "      <td>1953</td>\n",
       "      <td>0.0</td>\n",
       "      <td>train</td>\n",
       "    </tr>\n",
       "    <tr>\n",
       "      <th>4</th>\n",
       "      <td>emp-102</td>\n",
       "      <td>3790.0</td>\n",
       "      <td>2720.5</td>\n",
       "      <td>344.0</td>\n",
       "      <td>1861.0</td>\n",
       "      <td>20</td>\n",
       "      <td>2254</td>\n",
       "      <td>0.0</td>\n",
       "      <td>train</td>\n",
       "    </tr>\n",
       "  </tbody>\n",
       "</table>\n",
       "</div>"
      ],
      "text/plain": [
       "  EmployeeID  TotalWorkingHours  Billable_Hours  Hours_off_Duty  \\\n",
       "0      emp-1             3424.0          2462.0           408.0   \n",
       "1     emp-10             2006.0          1274.0           328.0   \n",
       "2    emp-100             3607.0          3275.0           224.0   \n",
       "3    emp-101             4109.5          2759.5           192.0   \n",
       "4    emp-102             3790.0          2720.5           344.0   \n",
       "\n",
       "   Touring_Hours  NoOfProjects  ActualTimeSpent  Left_Company source  \n",
       "0         2462.0            42             2849           0.0  train  \n",
       "1          691.0            13              616           1.0  train  \n",
       "2         3235.0            23             3388           0.0  train  \n",
       "3            0.0            18             1953           0.0  train  \n",
       "4         1861.0            20             2254           0.0  train  "
      ]
     },
     "execution_count": 107,
     "metadata": {},
     "output_type": "execute_result"
    }
   ],
   "source": [
    "# append the datasets\n",
    "Train_Test_data = train_data.append(test_data)\n",
    "Train_Test_data.head()"
   ]
  },
  {
   "cell_type": "code",
   "execution_count": 108,
   "metadata": {},
   "outputs": [],
   "source": [
    "# Resetting the Index so that the index hows the total rows\n",
    "Train_Test_data.reset_index(inplace=True)"
   ]
  },
  {
   "cell_type": "code",
   "execution_count": 109,
   "metadata": {
    "scrolled": false
   },
   "outputs": [
    {
     "data": {
      "text/plain": [
       "(296, 10)"
      ]
     },
     "execution_count": 109,
     "metadata": {},
     "output_type": "execute_result"
    }
   ],
   "source": [
    "Train_Test_data.shape"
   ]
  },
  {
   "cell_type": "code",
   "execution_count": 110,
   "metadata": {},
   "outputs": [
    {
     "data": {
      "text/html": [
       "<div>\n",
       "<style scoped>\n",
       "    .dataframe tbody tr th:only-of-type {\n",
       "        vertical-align: middle;\n",
       "    }\n",
       "\n",
       "    .dataframe tbody tr th {\n",
       "        vertical-align: top;\n",
       "    }\n",
       "\n",
       "    .dataframe thead th {\n",
       "        text-align: right;\n",
       "    }\n",
       "</style>\n",
       "<table border=\"1\" class=\"dataframe\">\n",
       "  <thead>\n",
       "    <tr style=\"text-align: right;\">\n",
       "      <th></th>\n",
       "      <th>index</th>\n",
       "      <th>EmployeeID</th>\n",
       "      <th>TotalWorkingHours</th>\n",
       "      <th>Billable_Hours</th>\n",
       "      <th>Hours_off_Duty</th>\n",
       "      <th>Touring_Hours</th>\n",
       "      <th>NoOfProjects</th>\n",
       "      <th>ActualTimeSpent</th>\n",
       "      <th>Left_Company</th>\n",
       "      <th>source</th>\n",
       "    </tr>\n",
       "  </thead>\n",
       "  <tbody>\n",
       "    <tr>\n",
       "      <th>291</th>\n",
       "      <td>46</td>\n",
       "      <td>emp-85</td>\n",
       "      <td>4270.0</td>\n",
       "      <td>3479.5</td>\n",
       "      <td>404.0</td>\n",
       "      <td>16.0</td>\n",
       "      <td>29</td>\n",
       "      <td>2919</td>\n",
       "      <td>NaN</td>\n",
       "      <td>test</td>\n",
       "    </tr>\n",
       "    <tr>\n",
       "      <th>292</th>\n",
       "      <td>47</td>\n",
       "      <td>emp-86</td>\n",
       "      <td>4922.5</td>\n",
       "      <td>4285.5</td>\n",
       "      <td>308.0</td>\n",
       "      <td>1905.0</td>\n",
       "      <td>28</td>\n",
       "      <td>1771</td>\n",
       "      <td>NaN</td>\n",
       "      <td>test</td>\n",
       "    </tr>\n",
       "    <tr>\n",
       "      <th>293</th>\n",
       "      <td>48</td>\n",
       "      <td>emp-87</td>\n",
       "      <td>4571.5</td>\n",
       "      <td>3595.0</td>\n",
       "      <td>408.0</td>\n",
       "      <td>0.0</td>\n",
       "      <td>27</td>\n",
       "      <td>2639</td>\n",
       "      <td>NaN</td>\n",
       "      <td>test</td>\n",
       "    </tr>\n",
       "    <tr>\n",
       "      <th>294</th>\n",
       "      <td>49</td>\n",
       "      <td>emp-91</td>\n",
       "      <td>4465.5</td>\n",
       "      <td>3600.5</td>\n",
       "      <td>343.0</td>\n",
       "      <td>2447.5</td>\n",
       "      <td>24</td>\n",
       "      <td>3850</td>\n",
       "      <td>NaN</td>\n",
       "      <td>test</td>\n",
       "    </tr>\n",
       "    <tr>\n",
       "      <th>295</th>\n",
       "      <td>50</td>\n",
       "      <td>emp-95</td>\n",
       "      <td>753.0</td>\n",
       "      <td>418.0</td>\n",
       "      <td>144.0</td>\n",
       "      <td>0.0</td>\n",
       "      <td>4</td>\n",
       "      <td>112</td>\n",
       "      <td>NaN</td>\n",
       "      <td>test</td>\n",
       "    </tr>\n",
       "  </tbody>\n",
       "</table>\n",
       "</div>"
      ],
      "text/plain": [
       "     index EmployeeID  TotalWorkingHours  Billable_Hours  Hours_off_Duty  \\\n",
       "291     46     emp-85             4270.0          3479.5           404.0   \n",
       "292     47     emp-86             4922.5          4285.5           308.0   \n",
       "293     48     emp-87             4571.5          3595.0           408.0   \n",
       "294     49     emp-91             4465.5          3600.5           343.0   \n",
       "295     50     emp-95              753.0           418.0           144.0   \n",
       "\n",
       "     Touring_Hours  NoOfProjects  ActualTimeSpent  Left_Company source  \n",
       "291           16.0            29             2919           NaN   test  \n",
       "292         1905.0            28             1771           NaN   test  \n",
       "293            0.0            27             2639           NaN   test  \n",
       "294         2447.5            24             3850           NaN   test  \n",
       "295            0.0             4              112           NaN   test  "
      ]
     },
     "execution_count": 110,
     "metadata": {},
     "output_type": "execute_result"
    }
   ],
   "source": [
    "Train_Test_data.tail()"
   ]
  },
  {
   "cell_type": "markdown",
   "metadata": {},
   "source": [
    "<br>\n",
    "\n",
    "## Employee Data"
   ]
  },
  {
   "cell_type": "code",
   "execution_count": 144,
   "metadata": {},
   "outputs": [
    {
     "data": {
      "text/html": [
       "<div>\n",
       "<style scoped>\n",
       "    .dataframe tbody tr th:only-of-type {\n",
       "        vertical-align: middle;\n",
       "    }\n",
       "\n",
       "    .dataframe tbody tr th {\n",
       "        vertical-align: top;\n",
       "    }\n",
       "\n",
       "    .dataframe thead th {\n",
       "        text-align: right;\n",
       "    }\n",
       "</style>\n",
       "<table border=\"1\" class=\"dataframe\">\n",
       "  <thead>\n",
       "    <tr style=\"text-align: right;\">\n",
       "      <th></th>\n",
       "      <th>EmployeeID</th>\n",
       "      <th>Job_History</th>\n",
       "      <th>Joining_Date</th>\n",
       "      <th>Designation</th>\n",
       "      <th>Sex</th>\n",
       "    </tr>\n",
       "  </thead>\n",
       "  <tbody>\n",
       "    <tr>\n",
       "      <th>0</th>\n",
       "      <td>emp-10</td>\n",
       "      <td>Worked at Company - 816 , Company - 724 , Comp...</td>\n",
       "      <td>2006_02</td>\n",
       "      <td>VP</td>\n",
       "      <td>0</td>\n",
       "    </tr>\n",
       "    <tr>\n",
       "      <th>1</th>\n",
       "      <td>emp-108</td>\n",
       "      <td>Worked at Company - 205 , Company - 373 , Comp...</td>\n",
       "      <td>2012_01</td>\n",
       "      <td>VP</td>\n",
       "      <td>1</td>\n",
       "    </tr>\n",
       "    <tr>\n",
       "      <th>2</th>\n",
       "      <td>emp-115</td>\n",
       "      <td>Worked at Company - 690 , Company - 280 , Comp...</td>\n",
       "      <td>2012_02</td>\n",
       "      <td>Senior</td>\n",
       "      <td>1</td>\n",
       "    </tr>\n",
       "    <tr>\n",
       "      <th>3</th>\n",
       "      <td>emp-121</td>\n",
       "      <td>Worked at Company - 684 , Company - 159 , Comp...</td>\n",
       "      <td>2012_03</td>\n",
       "      <td>VP</td>\n",
       "      <td>1</td>\n",
       "    </tr>\n",
       "    <tr>\n",
       "      <th>4</th>\n",
       "      <td>emp-138</td>\n",
       "      <td>Worked at Company - 443 , Company - 121 , Comp...</td>\n",
       "      <td>2012_05</td>\n",
       "      <td>Senior</td>\n",
       "      <td>1</td>\n",
       "    </tr>\n",
       "  </tbody>\n",
       "</table>\n",
       "</div>"
      ],
      "text/plain": [
       "  EmployeeID                                        Job_History Joining_Date  \\\n",
       "0     emp-10  Worked at Company - 816 , Company - 724 , Comp...      2006_02   \n",
       "1    emp-108  Worked at Company - 205 , Company - 373 , Comp...      2012_01   \n",
       "2    emp-115  Worked at Company - 690 , Company - 280 , Comp...      2012_02   \n",
       "3    emp-121  Worked at Company - 684 , Company - 159 , Comp...      2012_03   \n",
       "4    emp-138  Worked at Company - 443 , Company - 121 , Comp...      2012_05   \n",
       "\n",
       "  Designation  Sex  \n",
       "0          VP    0  \n",
       "1          VP    1  \n",
       "2      Senior    1  \n",
       "3          VP    1  \n",
       "4      Senior    1  "
      ]
     },
     "execution_count": 144,
     "metadata": {},
     "output_type": "execute_result"
    }
   ],
   "source": [
    "# Show First 5 records\n",
    "Emp_data = pd.read_csv('Employee Data/employee_data.csv')\n",
    "Emp_data.head()"
   ]
  },
  {
   "cell_type": "code",
   "execution_count": 145,
   "metadata": {},
   "outputs": [
    {
     "data": {
      "text/plain": [
       "(296, 5)"
      ]
     },
     "execution_count": 145,
     "metadata": {},
     "output_type": "execute_result"
    }
   ],
   "source": [
    "Emp_data.shape"
   ]
  },
  {
   "cell_type": "markdown",
   "metadata": {},
   "source": [
    "<br>\n",
    "\n",
    "## Combining Employee and Attribute details"
   ]
  },
  {
   "cell_type": "code",
   "execution_count": 146,
   "metadata": {},
   "outputs": [
    {
     "data": {
      "text/html": [
       "<div>\n",
       "<style scoped>\n",
       "    .dataframe tbody tr th:only-of-type {\n",
       "        vertical-align: middle;\n",
       "    }\n",
       "\n",
       "    .dataframe tbody tr th {\n",
       "        vertical-align: top;\n",
       "    }\n",
       "\n",
       "    .dataframe thead th {\n",
       "        text-align: right;\n",
       "    }\n",
       "</style>\n",
       "<table border=\"1\" class=\"dataframe\">\n",
       "  <thead>\n",
       "    <tr style=\"text-align: right;\">\n",
       "      <th></th>\n",
       "      <th>index</th>\n",
       "      <th>EmployeeID</th>\n",
       "      <th>TotalWorkingHours</th>\n",
       "      <th>Billable_Hours</th>\n",
       "      <th>Hours_off_Duty</th>\n",
       "      <th>Touring_Hours</th>\n",
       "      <th>NoOfProjects</th>\n",
       "      <th>ActualTimeSpent</th>\n",
       "      <th>Left_Company</th>\n",
       "      <th>source</th>\n",
       "      <th>Job_History</th>\n",
       "      <th>Joining_Date</th>\n",
       "      <th>Designation</th>\n",
       "      <th>Sex</th>\n",
       "    </tr>\n",
       "  </thead>\n",
       "  <tbody>\n",
       "    <tr>\n",
       "      <th>0</th>\n",
       "      <td>0</td>\n",
       "      <td>emp-1</td>\n",
       "      <td>3424.0</td>\n",
       "      <td>2462.0</td>\n",
       "      <td>408.0</td>\n",
       "      <td>2462.0</td>\n",
       "      <td>42</td>\n",
       "      <td>2849</td>\n",
       "      <td>0.0</td>\n",
       "      <td>train</td>\n",
       "      <td>Worked at Company - 639 , Company - 212 , Comp...</td>\n",
       "      <td>2011_01</td>\n",
       "      <td>MD</td>\n",
       "      <td>1</td>\n",
       "    </tr>\n",
       "    <tr>\n",
       "      <th>1</th>\n",
       "      <td>1</td>\n",
       "      <td>emp-10</td>\n",
       "      <td>2006.0</td>\n",
       "      <td>1274.0</td>\n",
       "      <td>328.0</td>\n",
       "      <td>691.0</td>\n",
       "      <td>13</td>\n",
       "      <td>616</td>\n",
       "      <td>1.0</td>\n",
       "      <td>train</td>\n",
       "      <td>Worked at Company - 816 , Company - 724 , Comp...</td>\n",
       "      <td>2006_02</td>\n",
       "      <td>VP</td>\n",
       "      <td>0</td>\n",
       "    </tr>\n",
       "  </tbody>\n",
       "</table>\n",
       "</div>"
      ],
      "text/plain": [
       "   index EmployeeID  TotalWorkingHours  Billable_Hours  Hours_off_Duty  \\\n",
       "0      0      emp-1             3424.0          2462.0           408.0   \n",
       "1      1     emp-10             2006.0          1274.0           328.0   \n",
       "\n",
       "   Touring_Hours  NoOfProjects  ActualTimeSpent  Left_Company source  \\\n",
       "0         2462.0            42             2849           0.0  train   \n",
       "1          691.0            13              616           1.0  train   \n",
       "\n",
       "                                         Job_History Joining_Date Designation  \\\n",
       "0  Worked at Company - 639 , Company - 212 , Comp...      2011_01          MD   \n",
       "1  Worked at Company - 816 , Company - 724 , Comp...      2006_02          VP   \n",
       "\n",
       "   Sex  \n",
       "0    1  \n",
       "1    0  "
      ]
     },
     "execution_count": 146,
     "metadata": {},
     "output_type": "execute_result"
    }
   ],
   "source": [
    "data = pd.merge(Train_Test_data, Emp_data, on='EmployeeID')\n",
    "data.head(2)"
   ]
  },
  {
   "cell_type": "code",
   "execution_count": 136,
   "metadata": {},
   "outputs": [
    {
     "data": {
      "text/plain": [
       "(296, 14)"
      ]
     },
     "execution_count": 136,
     "metadata": {},
     "output_type": "execute_result"
    }
   ],
   "source": [
    "data.shape"
   ]
  },
  {
   "cell_type": "markdown",
   "metadata": {},
   "source": [
    "### Deriving new column for Previous work experience"
   ]
  },
  {
   "cell_type": "code",
   "execution_count": 137,
   "metadata": {},
   "outputs": [],
   "source": [
    "data['Total_Experience'] = data['Job_History'].str.count('Company')"
   ]
  },
  {
   "cell_type": "markdown",
   "metadata": {},
   "source": [
    "### Moving the column 'Left_Company' to the end"
   ]
  },
  {
   "cell_type": "code",
   "execution_count": 138,
   "metadata": {
    "scrolled": true
   },
   "outputs": [
    {
     "data": {
      "text/html": [
       "<div>\n",
       "<style scoped>\n",
       "    .dataframe tbody tr th:only-of-type {\n",
       "        vertical-align: middle;\n",
       "    }\n",
       "\n",
       "    .dataframe tbody tr th {\n",
       "        vertical-align: top;\n",
       "    }\n",
       "\n",
       "    .dataframe thead th {\n",
       "        text-align: right;\n",
       "    }\n",
       "</style>\n",
       "<table border=\"1\" class=\"dataframe\">\n",
       "  <thead>\n",
       "    <tr style=\"text-align: right;\">\n",
       "      <th></th>\n",
       "      <th>index</th>\n",
       "      <th>EmployeeID</th>\n",
       "      <th>TotalWorkingHours</th>\n",
       "      <th>Billable_Hours</th>\n",
       "      <th>Hours_off_Duty</th>\n",
       "      <th>Touring_Hours</th>\n",
       "      <th>NoOfProjects</th>\n",
       "      <th>ActualTimeSpent</th>\n",
       "      <th>Job_History</th>\n",
       "      <th>Joining_Date</th>\n",
       "      <th>Designation</th>\n",
       "      <th>Sex</th>\n",
       "      <th>Total_Experience</th>\n",
       "      <th>Left_Company</th>\n",
       "      <th>source</th>\n",
       "    </tr>\n",
       "  </thead>\n",
       "  <tbody>\n",
       "    <tr>\n",
       "      <th>0</th>\n",
       "      <td>0</td>\n",
       "      <td>emp-1</td>\n",
       "      <td>3424.0</td>\n",
       "      <td>2462.0</td>\n",
       "      <td>408.0</td>\n",
       "      <td>2462.0</td>\n",
       "      <td>42</td>\n",
       "      <td>2849</td>\n",
       "      <td>Worked at Company - 639 , Company - 212 , Comp...</td>\n",
       "      <td>2011_01</td>\n",
       "      <td>MD</td>\n",
       "      <td>1</td>\n",
       "      <td>3</td>\n",
       "      <td>0.0</td>\n",
       "      <td>train</td>\n",
       "    </tr>\n",
       "    <tr>\n",
       "      <th>1</th>\n",
       "      <td>1</td>\n",
       "      <td>emp-10</td>\n",
       "      <td>2006.0</td>\n",
       "      <td>1274.0</td>\n",
       "      <td>328.0</td>\n",
       "      <td>691.0</td>\n",
       "      <td>13</td>\n",
       "      <td>616</td>\n",
       "      <td>Worked at Company - 816 , Company - 724 , Comp...</td>\n",
       "      <td>2006_02</td>\n",
       "      <td>VP</td>\n",
       "      <td>0</td>\n",
       "      <td>4</td>\n",
       "      <td>1.0</td>\n",
       "      <td>train</td>\n",
       "    </tr>\n",
       "  </tbody>\n",
       "</table>\n",
       "</div>"
      ],
      "text/plain": [
       "   index EmployeeID  TotalWorkingHours  Billable_Hours  Hours_off_Duty  \\\n",
       "0      0      emp-1             3424.0          2462.0           408.0   \n",
       "1      1     emp-10             2006.0          1274.0           328.0   \n",
       "\n",
       "   Touring_Hours  NoOfProjects  ActualTimeSpent  \\\n",
       "0         2462.0            42             2849   \n",
       "1          691.0            13              616   \n",
       "\n",
       "                                         Job_History Joining_Date Designation  \\\n",
       "0  Worked at Company - 639 , Company - 212 , Comp...      2011_01          MD   \n",
       "1  Worked at Company - 816 , Company - 724 , Comp...      2006_02          VP   \n",
       "\n",
       "   Sex  Total_Experience  Left_Company source  \n",
       "0    1                 3           0.0  train  \n",
       "1    0                 4           1.0  train  "
      ]
     },
     "execution_count": 138,
     "metadata": {},
     "output_type": "execute_result"
    }
   ],
   "source": [
    "columns = list(data.columns.values)\n",
    "columns.pop(columns.index('Left_Company'))\n",
    "columns.pop(columns.index('source'))\n",
    "data = data[columns+['Left_Company','source']]\n",
    "data.head(2)"
   ]
  },
  {
   "cell_type": "code",
   "execution_count": 140,
   "metadata": {},
   "outputs": [
    {
     "name": "stdout",
     "output_type": "stream",
     "text": [
      "<class 'pandas.core.frame.DataFrame'>\n",
      "Int64Index: 296 entries, 0 to 295\n",
      "Data columns (total 15 columns):\n",
      "index                296 non-null int64\n",
      "EmployeeID           296 non-null object\n",
      "TotalWorkingHours    296 non-null float64\n",
      "Billable_Hours       296 non-null float64\n",
      "Hours_off_Duty       296 non-null float64\n",
      "Touring_Hours        296 non-null float64\n",
      "NoOfProjects         296 non-null int64\n",
      "ActualTimeSpent      296 non-null int64\n",
      "Job_History          296 non-null object\n",
      "Joining_Date         296 non-null object\n",
      "Designation          296 non-null object\n",
      "Sex                  296 non-null int64\n",
      "Total_Experience     296 non-null int64\n",
      "Left_Company         245 non-null float64\n",
      "source               296 non-null object\n",
      "dtypes: float64(5), int64(5), object(5)\n",
      "memory usage: 37.0+ KB\n"
     ]
    }
   ],
   "source": [
    "data.info()"
   ]
  },
  {
   "cell_type": "markdown",
   "metadata": {},
   "source": [
    "### Saving the data for Model building"
   ]
  },
  {
   "cell_type": "raw",
   "metadata": {},
   "source": [
    "data.to_csv('Employee_Attrition.csv',index=False)"
   ]
  }
 ],
 "metadata": {
  "kernelspec": {
   "display_name": "Python 3",
   "language": "python",
   "name": "python3"
  },
  "language_info": {
   "codemirror_mode": {
    "name": "ipython",
    "version": 3
   },
   "file_extension": ".py",
   "mimetype": "text/x-python",
   "name": "python",
   "nbconvert_exporter": "python",
   "pygments_lexer": "ipython3",
   "version": "3.7.3"
  }
 },
 "nbformat": 4,
 "nbformat_minor": 2
}
