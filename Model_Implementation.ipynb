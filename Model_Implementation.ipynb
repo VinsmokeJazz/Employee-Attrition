{
 "cells": [
  {
   "cell_type": "code",
   "execution_count": 1,
   "metadata": {},
   "outputs": [],
   "source": [
    "import pandas as pd\n",
    "import numpy as np\n",
    "\n",
    "import matplotlib.pyplot as plt\n",
    "import seaborn as sb\n",
    "%matplotlib inline\n",
    "from pylab import rcParams\n",
    "\n",
    "from sklearn.preprocessing import LabelEncoder\n",
    "from sklearn.model_selection import train_test_split\n",
    "\n",
    "from imblearn.over_sampling import SMOTE\n",
    "\n",
    "from sklearn.linear_model import LogisticRegression\n",
    "from sklearn.svm import SVC\n",
    "from sklearn.tree import DecisionTreeClassifier\n",
    "from sklearn.ensemble import RandomForestClassifier\n",
    "from xgboost import XGBClassifier\n",
    "\n",
    "from sklearn.metrics import accuracy_score,classification_report"
   ]
  },
  {
   "cell_type": "code",
   "execution_count": 3,
   "metadata": {},
   "outputs": [
    {
     "data": {
      "text/html": [
       "<div>\n",
       "<style scoped>\n",
       "    .dataframe tbody tr th:only-of-type {\n",
       "        vertical-align: middle;\n",
       "    }\n",
       "\n",
       "    .dataframe tbody tr th {\n",
       "        vertical-align: top;\n",
       "    }\n",
       "\n",
       "    .dataframe thead th {\n",
       "        text-align: right;\n",
       "    }\n",
       "</style>\n",
       "<table border=\"1\" class=\"dataframe\">\n",
       "  <thead>\n",
       "    <tr style=\"text-align: right;\">\n",
       "      <th></th>\n",
       "      <th>index</th>\n",
       "      <th>EmployeeID</th>\n",
       "      <th>TotalWorkingHours</th>\n",
       "      <th>Billable_Hours</th>\n",
       "      <th>Hours_off_Duty</th>\n",
       "      <th>Touring_Hours</th>\n",
       "      <th>NoOfProjects</th>\n",
       "      <th>ActualTimeSpent</th>\n",
       "      <th>Job_History</th>\n",
       "      <th>Joining_Date</th>\n",
       "      <th>Designation</th>\n",
       "      <th>Sex</th>\n",
       "      <th>Total_Experience</th>\n",
       "      <th>Left_Company</th>\n",
       "      <th>source</th>\n",
       "    </tr>\n",
       "  </thead>\n",
       "  <tbody>\n",
       "    <tr>\n",
       "      <th>0</th>\n",
       "      <td>0</td>\n",
       "      <td>emp-1</td>\n",
       "      <td>3424.0</td>\n",
       "      <td>2462.0</td>\n",
       "      <td>408.0</td>\n",
       "      <td>2462.0</td>\n",
       "      <td>42</td>\n",
       "      <td>2849</td>\n",
       "      <td>Worked at Company - 639 , Company - 212 , Comp...</td>\n",
       "      <td>2011_01</td>\n",
       "      <td>MD</td>\n",
       "      <td>1</td>\n",
       "      <td>3</td>\n",
       "      <td>0.0</td>\n",
       "      <td>train</td>\n",
       "    </tr>\n",
       "    <tr>\n",
       "      <th>1</th>\n",
       "      <td>1</td>\n",
       "      <td>emp-10</td>\n",
       "      <td>2006.0</td>\n",
       "      <td>1274.0</td>\n",
       "      <td>328.0</td>\n",
       "      <td>691.0</td>\n",
       "      <td>13</td>\n",
       "      <td>616</td>\n",
       "      <td>Worked at Company - 816 , Company - 724 , Comp...</td>\n",
       "      <td>2006_02</td>\n",
       "      <td>VP</td>\n",
       "      <td>0</td>\n",
       "      <td>4</td>\n",
       "      <td>1.0</td>\n",
       "      <td>train</td>\n",
       "    </tr>\n",
       "    <tr>\n",
       "      <th>2</th>\n",
       "      <td>2</td>\n",
       "      <td>emp-100</td>\n",
       "      <td>3607.0</td>\n",
       "      <td>3275.0</td>\n",
       "      <td>224.0</td>\n",
       "      <td>3235.0</td>\n",
       "      <td>23</td>\n",
       "      <td>3388</td>\n",
       "      <td>Worked at Company - 562 , Company - 319</td>\n",
       "      <td>2011_12</td>\n",
       "      <td>Senior</td>\n",
       "      <td>1</td>\n",
       "      <td>2</td>\n",
       "      <td>0.0</td>\n",
       "      <td>train</td>\n",
       "    </tr>\n",
       "  </tbody>\n",
       "</table>\n",
       "</div>"
      ],
      "text/plain": [
       "   index EmployeeID  TotalWorkingHours  Billable_Hours  Hours_off_Duty  \\\n",
       "0      0      emp-1             3424.0          2462.0           408.0   \n",
       "1      1     emp-10             2006.0          1274.0           328.0   \n",
       "2      2    emp-100             3607.0          3275.0           224.0   \n",
       "\n",
       "   Touring_Hours  NoOfProjects  ActualTimeSpent  \\\n",
       "0         2462.0            42             2849   \n",
       "1          691.0            13              616   \n",
       "2         3235.0            23             3388   \n",
       "\n",
       "                                         Job_History Joining_Date Designation  \\\n",
       "0  Worked at Company - 639 , Company - 212 , Comp...      2011_01          MD   \n",
       "1  Worked at Company - 816 , Company - 724 , Comp...      2006_02          VP   \n",
       "2            Worked at Company - 562 , Company - 319      2011_12      Senior   \n",
       "\n",
       "   Sex  Total_Experience  Left_Company source  \n",
       "0    1                 3           0.0  train  \n",
       "1    0                 4           1.0  train  \n",
       "2    1                 2           0.0  train  "
      ]
     },
     "execution_count": 3,
     "metadata": {},
     "output_type": "execute_result"
    }
   ],
   "source": [
    "# Show First 5 records\n",
    "data = pd.read_csv('Employee_Attrition.csv')\n",
    "data.head(3)"
   ]
  },
  {
   "cell_type": "markdown",
   "metadata": {},
   "source": [
    "### Label Encoding for 'Designation' field"
   ]
  },
  {
   "cell_type": "code",
   "execution_count": 4,
   "metadata": {},
   "outputs": [],
   "source": [
    "enc_Designation = LabelEncoder()\n",
    "data.Designation = enc_Designation.fit_transform(data.Designation)"
   ]
  },
  {
   "cell_type": "markdown",
   "metadata": {},
   "source": [
    "## Machine learning model implementation"
   ]
  },
  {
   "cell_type": "markdown",
   "metadata": {},
   "source": [
    "### Split Train and Test"
   ]
  },
  {
   "cell_type": "code",
   "execution_count": 6,
   "metadata": {},
   "outputs": [],
   "source": [
    "data_Train = data.loc[data['source'] == 'train', : ]\n",
    "data_Test = data.loc[data['source'] == 'test', : ]"
   ]
  },
  {
   "cell_type": "markdown",
   "metadata": {},
   "source": [
    "### Get the data for Training and Testing within Actual Train dataset"
   ]
  },
  {
   "cell_type": "code",
   "execution_count": 34,
   "metadata": {},
   "outputs": [],
   "source": [
    "X = data_Train.loc[:,['TotalWorkingHours','Billable_Hours','Hours_off_Duty','Touring_Hours','NoOfProjects',\n",
    "               'ActualTimeSpent','Designation','Sex','Total_Experience']]\n",
    "y = data_Train.Left_Company"
   ]
  },
  {
   "cell_type": "code",
   "execution_count": 35,
   "metadata": {},
   "outputs": [
    {
     "data": {
      "text/html": [
       "<div>\n",
       "<style scoped>\n",
       "    .dataframe tbody tr th:only-of-type {\n",
       "        vertical-align: middle;\n",
       "    }\n",
       "\n",
       "    .dataframe tbody tr th {\n",
       "        vertical-align: top;\n",
       "    }\n",
       "\n",
       "    .dataframe thead th {\n",
       "        text-align: right;\n",
       "    }\n",
       "</style>\n",
       "<table border=\"1\" class=\"dataframe\">\n",
       "  <thead>\n",
       "    <tr style=\"text-align: right;\">\n",
       "      <th></th>\n",
       "      <th>TotalWorkingHours</th>\n",
       "      <th>Billable_Hours</th>\n",
       "      <th>Hours_off_Duty</th>\n",
       "      <th>Touring_Hours</th>\n",
       "      <th>NoOfProjects</th>\n",
       "      <th>ActualTimeSpent</th>\n",
       "      <th>Designation</th>\n",
       "      <th>Sex</th>\n",
       "      <th>Total_Experience</th>\n",
       "    </tr>\n",
       "  </thead>\n",
       "  <tbody>\n",
       "    <tr>\n",
       "      <th>0</th>\n",
       "      <td>3424.0</td>\n",
       "      <td>2462.0</td>\n",
       "      <td>408.0</td>\n",
       "      <td>2462.0</td>\n",
       "      <td>42</td>\n",
       "      <td>2849</td>\n",
       "      <td>2</td>\n",
       "      <td>1</td>\n",
       "      <td>3</td>\n",
       "    </tr>\n",
       "    <tr>\n",
       "      <th>1</th>\n",
       "      <td>2006.0</td>\n",
       "      <td>1274.0</td>\n",
       "      <td>328.0</td>\n",
       "      <td>691.0</td>\n",
       "      <td>13</td>\n",
       "      <td>616</td>\n",
       "      <td>4</td>\n",
       "      <td>0</td>\n",
       "      <td>4</td>\n",
       "    </tr>\n",
       "    <tr>\n",
       "      <th>2</th>\n",
       "      <td>3607.0</td>\n",
       "      <td>3275.0</td>\n",
       "      <td>224.0</td>\n",
       "      <td>3235.0</td>\n",
       "      <td>23</td>\n",
       "      <td>3388</td>\n",
       "      <td>3</td>\n",
       "      <td>1</td>\n",
       "      <td>2</td>\n",
       "    </tr>\n",
       "    <tr>\n",
       "      <th>3</th>\n",
       "      <td>4109.5</td>\n",
       "      <td>2759.5</td>\n",
       "      <td>192.0</td>\n",
       "      <td>0.0</td>\n",
       "      <td>18</td>\n",
       "      <td>1953</td>\n",
       "      <td>3</td>\n",
       "      <td>1</td>\n",
       "      <td>3</td>\n",
       "    </tr>\n",
       "    <tr>\n",
       "      <th>4</th>\n",
       "      <td>3790.0</td>\n",
       "      <td>2720.5</td>\n",
       "      <td>344.0</td>\n",
       "      <td>1861.0</td>\n",
       "      <td>20</td>\n",
       "      <td>2254</td>\n",
       "      <td>3</td>\n",
       "      <td>1</td>\n",
       "      <td>1</td>\n",
       "    </tr>\n",
       "  </tbody>\n",
       "</table>\n",
       "</div>"
      ],
      "text/plain": [
       "   TotalWorkingHours  Billable_Hours  Hours_off_Duty  Touring_Hours  \\\n",
       "0             3424.0          2462.0           408.0         2462.0   \n",
       "1             2006.0          1274.0           328.0          691.0   \n",
       "2             3607.0          3275.0           224.0         3235.0   \n",
       "3             4109.5          2759.5           192.0            0.0   \n",
       "4             3790.0          2720.5           344.0         1861.0   \n",
       "\n",
       "   NoOfProjects  ActualTimeSpent  Designation  Sex  Total_Experience  \n",
       "0            42             2849            2    1                 3  \n",
       "1            13              616            4    0                 4  \n",
       "2            23             3388            3    1                 2  \n",
       "3            18             1953            3    1                 3  \n",
       "4            20             2254            3    1                 1  "
      ]
     },
     "execution_count": 35,
     "metadata": {},
     "output_type": "execute_result"
    }
   ],
   "source": [
    "X.head()"
   ]
  },
  {
   "cell_type": "code",
   "execution_count": 36,
   "metadata": {},
   "outputs": [],
   "source": [
    "# Split of train data further into train and test\n",
    "X_train,X_test,y_train,y_test = train_test_split(X,y,test_size=0.2,random_state=20)"
   ]
  },
  {
   "cell_type": "markdown",
   "metadata": {},
   "source": [
    "### Training the Model"
   ]
  },
  {
   "cell_type": "code",
   "execution_count": 38,
   "metadata": {},
   "outputs": [],
   "source": [
    "#Print Function called by all the Algorithms \n",
    "def printScores(y_test,y_predict):\n",
    "    accuracy = round(accuracy_score(y_test,y_predict)*100)\n",
    "    print(\"\\nConfusion Matrix :- \\n\\n\",pd.crosstab(y_test,y_predict))\n",
    "    print(\"======================================\")\n",
    "    print(\"\\nClassification Report:- \\n\\n\",classification_report(y_test,y_predict))\n",
    "    return accuracy"
   ]
  },
  {
   "cell_type": "markdown",
   "metadata": {},
   "source": [
    "#### Different Alogorithms used for Prediction:"
   ]
  },
  {
   "cell_type": "markdown",
   "metadata": {},
   "source": [
    "#### LOGISTIC REGRESSION"
   ]
  },
  {
   "cell_type": "code",
   "execution_count": 39,
   "metadata": {},
   "outputs": [
    {
     "name": "stdout",
     "output_type": "stream",
     "text": [
      "\n",
      "Confusion Matrix :- \n",
      "\n",
      " col_0         0.0  1.0\n",
      "Left_Company          \n",
      "0.0            40    2\n",
      "1.0             4    3\n",
      "======================================\n",
      "\n",
      "Classification Report:- \n",
      "\n",
      "               precision    recall  f1-score   support\n",
      "\n",
      "         0.0       0.91      0.95      0.93        42\n",
      "         1.0       0.60      0.43      0.50         7\n",
      "\n",
      "    accuracy                           0.88        49\n",
      "   macro avg       0.75      0.69      0.72        49\n",
      "weighted avg       0.86      0.88      0.87        49\n",
      "\n",
      "Accuracy -->  88.0\n"
     ]
    },
    {
     "name": "stderr",
     "output_type": "stream",
     "text": [
      "C:\\ProgramData\\Anaconda3\\lib\\site-packages\\sklearn\\linear_model\\logistic.py:432: FutureWarning: Default solver will be changed to 'lbfgs' in 0.22. Specify a solver to silence this warning.\n",
      "  FutureWarning)\n"
     ]
    }
   ],
   "source": [
    "LogisticRegression_Model = LogisticRegression(random_state=10)\n",
    "LogisticRegression_Model.fit(X_train, y_train)\n",
    "LG_y_predict = LogisticRegression_Model.predict(X_test)\n",
    "LogReg_Acc = printScores(y_test,LG_y_predict)    #Print method\n",
    "print('Accuracy --> ',LogReg_Acc)"
   ]
  },
  {
   "cell_type": "markdown",
   "metadata": {},
   "source": [
    "#### DECISION TREE"
   ]
  },
  {
   "cell_type": "code",
   "execution_count": 40,
   "metadata": {},
   "outputs": [
    {
     "name": "stdout",
     "output_type": "stream",
     "text": [
      "\n",
      "Confusion Matrix :- \n",
      "\n",
      " col_0         0.0  1.0\n",
      "Left_Company          \n",
      "0.0            42    0\n",
      "1.0             2    5\n",
      "======================================\n",
      "\n",
      "Classification Report:- \n",
      "\n",
      "               precision    recall  f1-score   support\n",
      "\n",
      "         0.0       0.95      1.00      0.98        42\n",
      "         1.0       1.00      0.71      0.83         7\n",
      "\n",
      "    accuracy                           0.96        49\n",
      "   macro avg       0.98      0.86      0.91        49\n",
      "weighted avg       0.96      0.96      0.96        49\n",
      "\n",
      "Accuracy -->  96.0\n"
     ]
    }
   ],
   "source": [
    "DecisionTree_Model = DecisionTreeClassifier(max_depth=3 ,random_state=10)\n",
    "DecisionTree_Model.fit(X_train,y_train)\n",
    "DT_y_predict = DecisionTree_Model.predict(X_test)\n",
    "DecTree_Acc = printScores(y_test,DT_y_predict)    #Print method\n",
    "print('Accuracy --> ',DecTree_Acc)"
   ]
  },
  {
   "cell_type": "markdown",
   "metadata": {},
   "source": [
    "#### RANDOM FOREST"
   ]
  },
  {
   "cell_type": "code",
   "execution_count": 41,
   "metadata": {},
   "outputs": [
    {
     "name": "stdout",
     "output_type": "stream",
     "text": [
      "\n",
      "Confusion Matrix :- \n",
      "\n",
      " col_0         0.0  1.0\n",
      "Left_Company          \n",
      "0.0            42    0\n",
      "1.0             3    4\n",
      "======================================\n",
      "\n",
      "Classification Report:- \n",
      "\n",
      "               precision    recall  f1-score   support\n",
      "\n",
      "         0.0       0.93      1.00      0.97        42\n",
      "         1.0       1.00      0.57      0.73         7\n",
      "\n",
      "    accuracy                           0.94        49\n",
      "   macro avg       0.97      0.79      0.85        49\n",
      "weighted avg       0.94      0.94      0.93        49\n",
      "\n",
      "Accuracy -->  94.0\n"
     ]
    }
   ],
   "source": [
    "RandomForest_Model = RandomForestClassifier(max_depth=10,n_estimators=20,random_state=10,max_features='sqrt',\n",
    "                                            criterion='gini',min_samples_split=2,min_samples_leaf=4,bootstrap= False)\n",
    "RandomForest_Model.fit(X_train,y_train)\n",
    "RF_y_predict = RandomForest_Model.predict(X_test)\n",
    "RandFor_Acc = printScores(y_test,RF_y_predict)    #Print method\n",
    "print('Accuracy --> ',RandFor_Acc)"
   ]
  },
  {
   "cell_type": "markdown",
   "metadata": {},
   "source": [
    "#### XG BOOST"
   ]
  },
  {
   "cell_type": "code",
   "execution_count": 42,
   "metadata": {},
   "outputs": [
    {
     "name": "stdout",
     "output_type": "stream",
     "text": [
      "\n",
      "Confusion Matrix :- \n",
      "\n",
      " col_0         0.0  1.0\n",
      "Left_Company          \n",
      "0.0            42    0\n",
      "1.0             2    5\n",
      "======================================\n",
      "\n",
      "Classification Report:- \n",
      "\n",
      "               precision    recall  f1-score   support\n",
      "\n",
      "         0.0       0.95      1.00      0.98        42\n",
      "         1.0       1.00      0.71      0.83         7\n",
      "\n",
      "    accuracy                           0.96        49\n",
      "   macro avg       0.98      0.86      0.91        49\n",
      "weighted avg       0.96      0.96      0.96        49\n",
      "\n",
      "Accuracy -->  96.0\n"
     ]
    }
   ],
   "source": [
    "XGBoost_Model = XGBClassifier(max_depth=6,n_estimators=100,learning_rate=0.75,random_state=20)\n",
    "XGBoost_Model.fit(X_train,y_train)\n",
    "XGB_y_predict = XGBoost_Model.predict(X_test)\n",
    "XGB_Acc = printScores(y_test,XGB_y_predict)    #Print method\n",
    "print('Accuracy --> ',XGB_Acc)"
   ]
  },
  {
   "cell_type": "markdown",
   "metadata": {},
   "source": [
    "#### SUPPORT VECTOR MACHINE (SVM)"
   ]
  },
  {
   "cell_type": "code",
   "execution_count": 43,
   "metadata": {},
   "outputs": [
    {
     "name": "stdout",
     "output_type": "stream",
     "text": [
      "\n",
      "Confusion Matrix :- \n",
      "\n",
      " col_0         0.0  1.0\n",
      "Left_Company          \n",
      "0.0            42    0\n",
      "1.0             2    5\n",
      "======================================\n",
      "\n",
      "Classification Report:- \n",
      "\n",
      "               precision    recall  f1-score   support\n",
      "\n",
      "         0.0       0.95      1.00      0.98        42\n",
      "         1.0       1.00      0.71      0.83         7\n",
      "\n",
      "    accuracy                           0.96        49\n",
      "   macro avg       0.98      0.86      0.91        49\n",
      "weighted avg       0.96      0.96      0.96        49\n",
      "\n",
      "Accuracy -->  96.0\n"
     ]
    }
   ],
   "source": [
    "SVM_Model = SVC(kernel='rbf', C=7, gamma=0.001)\n",
    "SVM_Model.fit(X_train,y_train)\n",
    "SVM_y_predict = SVM_Model.predict(X_test)\n",
    "SVM_Acc = printScores(y_test,SVM_y_predict)    #Print method\n",
    "print('Accuracy --> ',SVM_Acc)"
   ]
  },
  {
   "cell_type": "markdown",
   "metadata": {},
   "source": [
    "### Showing the Classifier along with Accuracy."
   ]
  },
  {
   "cell_type": "code",
   "execution_count": 46,
   "metadata": {},
   "outputs": [
    {
     "data": {
      "text/html": [
       "<div>\n",
       "<style scoped>\n",
       "    .dataframe tbody tr th:only-of-type {\n",
       "        vertical-align: middle;\n",
       "    }\n",
       "\n",
       "    .dataframe tbody tr th {\n",
       "        vertical-align: top;\n",
       "    }\n",
       "\n",
       "    .dataframe thead th {\n",
       "        text-align: right;\n",
       "    }\n",
       "</style>\n",
       "<table border=\"1\" class=\"dataframe\">\n",
       "  <thead>\n",
       "    <tr style=\"text-align: right;\">\n",
       "      <th></th>\n",
       "      <th>Accuracy</th>\n",
       "    </tr>\n",
       "    <tr>\n",
       "      <th>Classifier</th>\n",
       "      <th></th>\n",
       "    </tr>\n",
       "  </thead>\n",
       "  <tbody>\n",
       "    <tr>\n",
       "      <th>Random Forest</th>\n",
       "      <td>94.0</td>\n",
       "    </tr>\n",
       "    <tr>\n",
       "      <th>XG Boost</th>\n",
       "      <td>96.0</td>\n",
       "    </tr>\n",
       "    <tr>\n",
       "      <th>Decision Tree</th>\n",
       "      <td>96.0</td>\n",
       "    </tr>\n",
       "    <tr>\n",
       "      <th>Support Vector Machines</th>\n",
       "      <td>96.0</td>\n",
       "    </tr>\n",
       "    <tr>\n",
       "      <th>Logistic Regression</th>\n",
       "      <td>88.0</td>\n",
       "    </tr>\n",
       "  </tbody>\n",
       "</table>\n",
       "</div>"
      ],
      "text/plain": [
       "                         Accuracy\n",
       "Classifier                       \n",
       "Random Forest                94.0\n",
       "XG Boost                     96.0\n",
       "Decision Tree                96.0\n",
       "Support Vector Machines      96.0\n",
       "Logistic Regression          88.0"
      ]
     },
     "execution_count": 46,
     "metadata": {},
     "output_type": "execute_result"
    }
   ],
   "source": [
    "models = pd.DataFrame({\n",
    "    'Classifier': ['Random Forest','XG Boost','Decision Tree','Support Vector Machines','Logistic Regression'],\n",
    "    'Accuracy': [RandFor_Acc,XGB_Acc,DecTree_Acc,SVM_Acc,LogReg_Acc]})\n",
    "models.set_index(['Classifier'])"
   ]
  },
  {
   "cell_type": "markdown",
   "metadata": {},
   "source": [
    "### As XG Boost, Decision tree and SVM gives descent accuracy, we export the trained model from any of them."
   ]
  },
  {
   "cell_type": "code",
   "execution_count": 48,
   "metadata": {},
   "outputs": [
    {
     "data": {
      "text/plain": [
       "['Employee_Attrition_Model.ml']"
      ]
     },
     "execution_count": 48,
     "metadata": {},
     "output_type": "execute_result"
    }
   ],
   "source": [
    "from sklearn.externals import joblib\n",
    "joblib.dump(SVM_Model,'Employee_Attrition_Model.ml')"
   ]
  }
 ],
 "metadata": {
  "kernelspec": {
   "display_name": "Python 3",
   "language": "python",
   "name": "python3"
  },
  "language_info": {
   "codemirror_mode": {
    "name": "ipython",
    "version": 3
   },
   "file_extension": ".py",
   "mimetype": "text/x-python",
   "name": "python",
   "nbconvert_exporter": "python",
   "pygments_lexer": "ipython3",
   "version": "3.7.3"
  }
 },
 "nbformat": 4,
 "nbformat_minor": 2
}
